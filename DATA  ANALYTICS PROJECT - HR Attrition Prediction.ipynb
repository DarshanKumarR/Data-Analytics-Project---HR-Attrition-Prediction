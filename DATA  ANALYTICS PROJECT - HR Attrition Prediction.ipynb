{
 "cells": [
  {
   "cell_type": "markdown",
   "id": "b39052b3",
   "metadata": {},
   "source": [
    "# TO PREDICT THE FUTURE ATTRITION ON THE COLLECTED HUMAN RESOURCE DATA\n"
   ]
  },
  {
   "cell_type": "code",
   "execution_count": 1,
   "id": "79b99fa5",
   "metadata": {},
   "outputs": [],
   "source": [
    "import numpy as np #performing mathematical on array\n",
    "import pandas as pd\n",
    "import seaborn as sns\n",
    "import matplotlib.pyplot as plt\n",
    "import seaborn as sns\n",
    "import warnings\n",
    "warnings.filterwarnings('ignore')"
   ]
  },
  {
   "cell_type": "markdown",
   "id": "5796f2e8",
   "metadata": {},
   "source": [
    "# Data Collection and Processing"
   ]
  },
  {
   "cell_type": "code",
   "execution_count": 2,
   "id": "f8afffa1",
   "metadata": {},
   "outputs": [],
   "source": [
    "#loding the csv data to a pandas dataframe\n",
    "data=pd.read_csv(\"Human Resource.csv\")\n",
    "data_copy = data.copy()"
   ]
  },
  {
   "cell_type": "code",
   "execution_count": 3,
   "id": "6eb1b3e2",
   "metadata": {},
   "outputs": [
    {
     "data": {
      "text/html": [
       "<div>\n",
       "<style scoped>\n",
       "    .dataframe tbody tr th:only-of-type {\n",
       "        vertical-align: middle;\n",
       "    }\n",
       "\n",
       "    .dataframe tbody tr th {\n",
       "        vertical-align: top;\n",
       "    }\n",
       "\n",
       "    .dataframe thead th {\n",
       "        text-align: right;\n",
       "    }\n",
       "</style>\n",
       "<table border=\"1\" class=\"dataframe\">\n",
       "  <thead>\n",
       "    <tr style=\"text-align: right;\">\n",
       "      <th></th>\n",
       "      <th>satisfaction_level</th>\n",
       "      <th>last_evaluation</th>\n",
       "      <th>number_project</th>\n",
       "      <th>average_montly_hours</th>\n",
       "      <th>time_spend_company</th>\n",
       "      <th>Work_accident</th>\n",
       "      <th>left</th>\n",
       "      <th>promotion_last_5years</th>\n",
       "      <th>Department</th>\n",
       "      <th>salary</th>\n",
       "    </tr>\n",
       "  </thead>\n",
       "  <tbody>\n",
       "    <tr>\n",
       "      <th>0</th>\n",
       "      <td>0.38</td>\n",
       "      <td>0.53</td>\n",
       "      <td>2</td>\n",
       "      <td>157</td>\n",
       "      <td>3</td>\n",
       "      <td>0</td>\n",
       "      <td>1</td>\n",
       "      <td>0</td>\n",
       "      <td>sales</td>\n",
       "      <td>low</td>\n",
       "    </tr>\n",
       "    <tr>\n",
       "      <th>1</th>\n",
       "      <td>0.80</td>\n",
       "      <td>0.86</td>\n",
       "      <td>5</td>\n",
       "      <td>262</td>\n",
       "      <td>6</td>\n",
       "      <td>0</td>\n",
       "      <td>1</td>\n",
       "      <td>0</td>\n",
       "      <td>sales</td>\n",
       "      <td>medium</td>\n",
       "    </tr>\n",
       "    <tr>\n",
       "      <th>2</th>\n",
       "      <td>0.11</td>\n",
       "      <td>0.88</td>\n",
       "      <td>7</td>\n",
       "      <td>272</td>\n",
       "      <td>4</td>\n",
       "      <td>0</td>\n",
       "      <td>1</td>\n",
       "      <td>0</td>\n",
       "      <td>sales</td>\n",
       "      <td>medium</td>\n",
       "    </tr>\n",
       "    <tr>\n",
       "      <th>3</th>\n",
       "      <td>0.72</td>\n",
       "      <td>0.87</td>\n",
       "      <td>5</td>\n",
       "      <td>223</td>\n",
       "      <td>5</td>\n",
       "      <td>0</td>\n",
       "      <td>1</td>\n",
       "      <td>0</td>\n",
       "      <td>sales</td>\n",
       "      <td>low</td>\n",
       "    </tr>\n",
       "    <tr>\n",
       "      <th>4</th>\n",
       "      <td>0.37</td>\n",
       "      <td>0.52</td>\n",
       "      <td>2</td>\n",
       "      <td>159</td>\n",
       "      <td>3</td>\n",
       "      <td>0</td>\n",
       "      <td>1</td>\n",
       "      <td>0</td>\n",
       "      <td>sales</td>\n",
       "      <td>low</td>\n",
       "    </tr>\n",
       "  </tbody>\n",
       "</table>\n",
       "</div>"
      ],
      "text/plain": [
       "   satisfaction_level  last_evaluation  number_project  average_montly_hours  \\\n",
       "0                0.38             0.53               2                   157   \n",
       "1                0.80             0.86               5                   262   \n",
       "2                0.11             0.88               7                   272   \n",
       "3                0.72             0.87               5                   223   \n",
       "4                0.37             0.52               2                   159   \n",
       "\n",
       "   time_spend_company  Work_accident  left  promotion_last_5years Department  \\\n",
       "0                   3              0     1                      0      sales   \n",
       "1                   6              0     1                      0      sales   \n",
       "2                   4              0     1                      0      sales   \n",
       "3                   5              0     1                      0      sales   \n",
       "4                   3              0     1                      0      sales   \n",
       "\n",
       "   salary  \n",
       "0     low  \n",
       "1  medium  \n",
       "2  medium  \n",
       "3     low  \n",
       "4     low  "
      ]
     },
     "execution_count": 3,
     "metadata": {},
     "output_type": "execute_result"
    }
   ],
   "source": [
    "#print first 5 rows of the dataset\n",
    "data.head()"
   ]
  },
  {
   "cell_type": "code",
   "execution_count": 4,
   "id": "57942463",
   "metadata": {},
   "outputs": [
    {
     "data": {
      "text/html": [
       "<div>\n",
       "<style scoped>\n",
       "    .dataframe tbody tr th:only-of-type {\n",
       "        vertical-align: middle;\n",
       "    }\n",
       "\n",
       "    .dataframe tbody tr th {\n",
       "        vertical-align: top;\n",
       "    }\n",
       "\n",
       "    .dataframe thead th {\n",
       "        text-align: right;\n",
       "    }\n",
       "</style>\n",
       "<table border=\"1\" class=\"dataframe\">\n",
       "  <thead>\n",
       "    <tr style=\"text-align: right;\">\n",
       "      <th></th>\n",
       "      <th>satisfaction_level</th>\n",
       "      <th>last_evaluation</th>\n",
       "      <th>number_project</th>\n",
       "      <th>average_montly_hours</th>\n",
       "      <th>time_spend_company</th>\n",
       "      <th>Work_accident</th>\n",
       "      <th>left</th>\n",
       "      <th>promotion_last_5years</th>\n",
       "      <th>Department</th>\n",
       "      <th>salary</th>\n",
       "    </tr>\n",
       "  </thead>\n",
       "  <tbody>\n",
       "    <tr>\n",
       "      <th>14994</th>\n",
       "      <td>0.40</td>\n",
       "      <td>0.57</td>\n",
       "      <td>2</td>\n",
       "      <td>151</td>\n",
       "      <td>3</td>\n",
       "      <td>0</td>\n",
       "      <td>1</td>\n",
       "      <td>0</td>\n",
       "      <td>support</td>\n",
       "      <td>low</td>\n",
       "    </tr>\n",
       "    <tr>\n",
       "      <th>14995</th>\n",
       "      <td>0.37</td>\n",
       "      <td>0.48</td>\n",
       "      <td>2</td>\n",
       "      <td>160</td>\n",
       "      <td>3</td>\n",
       "      <td>0</td>\n",
       "      <td>1</td>\n",
       "      <td>0</td>\n",
       "      <td>support</td>\n",
       "      <td>low</td>\n",
       "    </tr>\n",
       "    <tr>\n",
       "      <th>14996</th>\n",
       "      <td>0.37</td>\n",
       "      <td>0.53</td>\n",
       "      <td>2</td>\n",
       "      <td>143</td>\n",
       "      <td>3</td>\n",
       "      <td>0</td>\n",
       "      <td>1</td>\n",
       "      <td>0</td>\n",
       "      <td>support</td>\n",
       "      <td>low</td>\n",
       "    </tr>\n",
       "    <tr>\n",
       "      <th>14997</th>\n",
       "      <td>0.11</td>\n",
       "      <td>0.96</td>\n",
       "      <td>6</td>\n",
       "      <td>280</td>\n",
       "      <td>4</td>\n",
       "      <td>0</td>\n",
       "      <td>1</td>\n",
       "      <td>0</td>\n",
       "      <td>support</td>\n",
       "      <td>low</td>\n",
       "    </tr>\n",
       "    <tr>\n",
       "      <th>14998</th>\n",
       "      <td>0.37</td>\n",
       "      <td>0.52</td>\n",
       "      <td>2</td>\n",
       "      <td>158</td>\n",
       "      <td>3</td>\n",
       "      <td>0</td>\n",
       "      <td>1</td>\n",
       "      <td>0</td>\n",
       "      <td>support</td>\n",
       "      <td>low</td>\n",
       "    </tr>\n",
       "  </tbody>\n",
       "</table>\n",
       "</div>"
      ],
      "text/plain": [
       "       satisfaction_level  last_evaluation  number_project  \\\n",
       "14994                0.40             0.57               2   \n",
       "14995                0.37             0.48               2   \n",
       "14996                0.37             0.53               2   \n",
       "14997                0.11             0.96               6   \n",
       "14998                0.37             0.52               2   \n",
       "\n",
       "       average_montly_hours  time_spend_company  Work_accident  left  \\\n",
       "14994                   151                   3              0     1   \n",
       "14995                   160                   3              0     1   \n",
       "14996                   143                   3              0     1   \n",
       "14997                   280                   4              0     1   \n",
       "14998                   158                   3              0     1   \n",
       "\n",
       "       promotion_last_5years Department salary  \n",
       "14994                      0    support    low  \n",
       "14995                      0    support    low  \n",
       "14996                      0    support    low  \n",
       "14997                      0    support    low  \n",
       "14998                      0    support    low  "
      ]
     },
     "execution_count": 4,
     "metadata": {},
     "output_type": "execute_result"
    }
   ],
   "source": [
    "#print last 5 of the of the dataset\n",
    "data.tail()"
   ]
  },
  {
   "cell_type": "code",
   "execution_count": 5,
   "id": "582d32ae",
   "metadata": {},
   "outputs": [
    {
     "data": {
      "text/plain": [
       "(14999, 10)"
      ]
     },
     "execution_count": 5,
     "metadata": {},
     "output_type": "execute_result"
    }
   ],
   "source": [
    "#number of rows and column in the dataset\n",
    "data.shape"
   ]
  },
  {
   "cell_type": "code",
   "execution_count": 6,
   "id": "97486b88",
   "metadata": {},
   "outputs": [
    {
     "name": "stdout",
     "output_type": "stream",
     "text": [
      "<class 'pandas.core.frame.DataFrame'>\n",
      "RangeIndex: 14999 entries, 0 to 14998\n",
      "Data columns (total 10 columns):\n",
      " #   Column                 Non-Null Count  Dtype  \n",
      "---  ------                 --------------  -----  \n",
      " 0   satisfaction_level     14999 non-null  float64\n",
      " 1   last_evaluation        14999 non-null  float64\n",
      " 2   number_project         14999 non-null  int64  \n",
      " 3   average_montly_hours   14999 non-null  int64  \n",
      " 4   time_spend_company     14999 non-null  int64  \n",
      " 5   Work_accident          14999 non-null  int64  \n",
      " 6   left                   14999 non-null  int64  \n",
      " 7   promotion_last_5years  14999 non-null  int64  \n",
      " 8   Department             14999 non-null  object \n",
      " 9   salary                 14999 non-null  object \n",
      "dtypes: float64(2), int64(6), object(2)\n",
      "memory usage: 1.1+ MB\n"
     ]
    }
   ],
   "source": [
    "#getting some info about data\n",
    "data.info()"
   ]
  },
  {
   "cell_type": "code",
   "execution_count": 7,
   "id": "f4d54b20",
   "metadata": {},
   "outputs": [
    {
     "data": {
      "text/plain": [
       "satisfaction_level       0\n",
       "last_evaluation          0\n",
       "number_project           0\n",
       "average_montly_hours     0\n",
       "time_spend_company       0\n",
       "Work_accident            0\n",
       "left                     0\n",
       "promotion_last_5years    0\n",
       "Department               0\n",
       "salary                   0\n",
       "dtype: int64"
      ]
     },
     "execution_count": 7,
     "metadata": {},
     "output_type": "execute_result"
    }
   ],
   "source": [
    "#checking for some missing values\n",
    "data.isnull().sum()"
   ]
  },
  {
   "cell_type": "code",
   "execution_count": 8,
   "id": "24d284ea",
   "metadata": {},
   "outputs": [
    {
     "data": {
      "text/html": [
       "<div>\n",
       "<style scoped>\n",
       "    .dataframe tbody tr th:only-of-type {\n",
       "        vertical-align: middle;\n",
       "    }\n",
       "\n",
       "    .dataframe tbody tr th {\n",
       "        vertical-align: top;\n",
       "    }\n",
       "\n",
       "    .dataframe thead th {\n",
       "        text-align: right;\n",
       "    }\n",
       "</style>\n",
       "<table border=\"1\" class=\"dataframe\">\n",
       "  <thead>\n",
       "    <tr style=\"text-align: right;\">\n",
       "      <th></th>\n",
       "      <th>satisfaction_level</th>\n",
       "      <th>last_evaluation</th>\n",
       "      <th>number_project</th>\n",
       "      <th>average_montly_hours</th>\n",
       "      <th>time_spend_company</th>\n",
       "      <th>Work_accident</th>\n",
       "      <th>left</th>\n",
       "      <th>promotion_last_5years</th>\n",
       "    </tr>\n",
       "  </thead>\n",
       "  <tbody>\n",
       "    <tr>\n",
       "      <th>count</th>\n",
       "      <td>14999.000000</td>\n",
       "      <td>14999.000000</td>\n",
       "      <td>14999.000000</td>\n",
       "      <td>14999.000000</td>\n",
       "      <td>14999.000000</td>\n",
       "      <td>14999.000000</td>\n",
       "      <td>14999.000000</td>\n",
       "      <td>14999.000000</td>\n",
       "    </tr>\n",
       "    <tr>\n",
       "      <th>mean</th>\n",
       "      <td>0.612834</td>\n",
       "      <td>0.716102</td>\n",
       "      <td>3.803054</td>\n",
       "      <td>201.050337</td>\n",
       "      <td>3.498233</td>\n",
       "      <td>0.144610</td>\n",
       "      <td>0.238083</td>\n",
       "      <td>0.021268</td>\n",
       "    </tr>\n",
       "    <tr>\n",
       "      <th>std</th>\n",
       "      <td>0.248631</td>\n",
       "      <td>0.171169</td>\n",
       "      <td>1.232592</td>\n",
       "      <td>49.943099</td>\n",
       "      <td>1.460136</td>\n",
       "      <td>0.351719</td>\n",
       "      <td>0.425924</td>\n",
       "      <td>0.144281</td>\n",
       "    </tr>\n",
       "    <tr>\n",
       "      <th>min</th>\n",
       "      <td>0.090000</td>\n",
       "      <td>0.360000</td>\n",
       "      <td>2.000000</td>\n",
       "      <td>96.000000</td>\n",
       "      <td>2.000000</td>\n",
       "      <td>0.000000</td>\n",
       "      <td>0.000000</td>\n",
       "      <td>0.000000</td>\n",
       "    </tr>\n",
       "    <tr>\n",
       "      <th>25%</th>\n",
       "      <td>0.440000</td>\n",
       "      <td>0.560000</td>\n",
       "      <td>3.000000</td>\n",
       "      <td>156.000000</td>\n",
       "      <td>3.000000</td>\n",
       "      <td>0.000000</td>\n",
       "      <td>0.000000</td>\n",
       "      <td>0.000000</td>\n",
       "    </tr>\n",
       "    <tr>\n",
       "      <th>50%</th>\n",
       "      <td>0.640000</td>\n",
       "      <td>0.720000</td>\n",
       "      <td>4.000000</td>\n",
       "      <td>200.000000</td>\n",
       "      <td>3.000000</td>\n",
       "      <td>0.000000</td>\n",
       "      <td>0.000000</td>\n",
       "      <td>0.000000</td>\n",
       "    </tr>\n",
       "    <tr>\n",
       "      <th>75%</th>\n",
       "      <td>0.820000</td>\n",
       "      <td>0.870000</td>\n",
       "      <td>5.000000</td>\n",
       "      <td>245.000000</td>\n",
       "      <td>4.000000</td>\n",
       "      <td>0.000000</td>\n",
       "      <td>0.000000</td>\n",
       "      <td>0.000000</td>\n",
       "    </tr>\n",
       "    <tr>\n",
       "      <th>max</th>\n",
       "      <td>1.000000</td>\n",
       "      <td>1.000000</td>\n",
       "      <td>7.000000</td>\n",
       "      <td>310.000000</td>\n",
       "      <td>10.000000</td>\n",
       "      <td>1.000000</td>\n",
       "      <td>1.000000</td>\n",
       "      <td>1.000000</td>\n",
       "    </tr>\n",
       "  </tbody>\n",
       "</table>\n",
       "</div>"
      ],
      "text/plain": [
       "       satisfaction_level  last_evaluation  number_project  \\\n",
       "count        14999.000000     14999.000000    14999.000000   \n",
       "mean             0.612834         0.716102        3.803054   \n",
       "std              0.248631         0.171169        1.232592   \n",
       "min              0.090000         0.360000        2.000000   \n",
       "25%              0.440000         0.560000        3.000000   \n",
       "50%              0.640000         0.720000        4.000000   \n",
       "75%              0.820000         0.870000        5.000000   \n",
       "max              1.000000         1.000000        7.000000   \n",
       "\n",
       "       average_montly_hours  time_spend_company  Work_accident          left  \\\n",
       "count          14999.000000        14999.000000   14999.000000  14999.000000   \n",
       "mean             201.050337            3.498233       0.144610      0.238083   \n",
       "std               49.943099            1.460136       0.351719      0.425924   \n",
       "min               96.000000            2.000000       0.000000      0.000000   \n",
       "25%              156.000000            3.000000       0.000000      0.000000   \n",
       "50%              200.000000            3.000000       0.000000      0.000000   \n",
       "75%              245.000000            4.000000       0.000000      0.000000   \n",
       "max              310.000000           10.000000       1.000000      1.000000   \n",
       "\n",
       "       promotion_last_5years  \n",
       "count           14999.000000  \n",
       "mean                0.021268  \n",
       "std                 0.144281  \n",
       "min                 0.000000  \n",
       "25%                 0.000000  \n",
       "50%                 0.000000  \n",
       "75%                 0.000000  \n",
       "max                 1.000000  "
      ]
     },
     "execution_count": 8,
     "metadata": {},
     "output_type": "execute_result"
    }
   ],
   "source": [
    "#statistical measure about the data\n",
    "data.describe()"
   ]
  },
  {
   "cell_type": "code",
   "execution_count": 9,
   "id": "27acc094",
   "metadata": {},
   "outputs": [
    {
     "data": {
      "text/plain": [
       "Index(['satisfaction_level', 'last_evaluation', 'number_project',\n",
       "       'average_montly_hours', 'time_spend_company', 'Work_accident', 'left',\n",
       "       'promotion_last_5years', 'Department', 'salary'],\n",
       "      dtype='object')"
      ]
     },
     "execution_count": 9,
     "metadata": {},
     "output_type": "execute_result"
    }
   ],
   "source": [
    "#checking for all columns in data\n",
    "data.columns"
   ]
  },
  {
   "cell_type": "code",
   "execution_count": 10,
   "id": "3175232e",
   "metadata": {},
   "outputs": [
    {
     "data": {
      "text/plain": [
       "array(['sales', 'accounting', 'hr', 'technical', 'support', 'management',\n",
       "       'IT', 'product_mng', 'marketing', 'RandD'], dtype=object)"
      ]
     },
     "execution_count": 10,
     "metadata": {},
     "output_type": "execute_result"
    }
   ],
   "source": [
    "data.Department.unique()"
   ]
  },
  {
   "cell_type": "code",
   "execution_count": 11,
   "id": "ad6a1cb9",
   "metadata": {},
   "outputs": [
    {
     "data": {
      "text/plain": [
       "3     6443\n",
       "2     3244\n",
       "4     2557\n",
       "5     1473\n",
       "6      718\n",
       "10     214\n",
       "7      188\n",
       "8      162\n",
       "Name: time_spend_company, dtype: int64"
      ]
     },
     "execution_count": 11,
     "metadata": {},
     "output_type": "execute_result"
    }
   ],
   "source": [
    "#checking the distribution left variables\n",
    "data[\"left\"].value_counts()\n",
    "data[\"time_spend_company\"].value_counts()"
   ]
  },
  {
   "cell_type": "raw",
   "id": "b0c45c00",
   "metadata": {},
   "source": [
    "#O->exists\n",
    "#1->does not exists\n"
   ]
  },
  {
   "cell_type": "code",
   "execution_count": 12,
   "id": "6b271cf6",
   "metadata": {},
   "outputs": [
    {
     "name": "stdout",
     "output_type": "stream",
     "text": [
      "       satisfaction_level  last_evaluation  number_project  \\\n",
      "2000                 0.58             0.74               4   \n",
      "2001                 0.82             0.67               2   \n",
      "2002                 0.45             0.69               5   \n",
      "2003                 0.78             0.82               5   \n",
      "2004                 0.49             0.60               3   \n",
      "...                   ...              ...             ...   \n",
      "14206                0.90             0.55               3   \n",
      "14207                0.74             0.95               5   \n",
      "14208                0.85             0.54               3   \n",
      "14209                0.33             0.65               3   \n",
      "14210                0.50             0.73               4   \n",
      "\n",
      "       average_montly_hours  time_spend_company  Work_accident  left  \\\n",
      "2000                    215                   3              0     0   \n",
      "2001                    202                   3              0     0   \n",
      "2002                    193                   3              0     0   \n",
      "2003                    247                   3              0     0   \n",
      "2004                    214                   2              0     0   \n",
      "...                     ...                 ...            ...   ...   \n",
      "14206                   259                  10              1     0   \n",
      "14207                   266                  10              0     0   \n",
      "14208                   185                  10              0     0   \n",
      "14209                   172                  10              0     0   \n",
      "14210                   180                   3              0     0   \n",
      "\n",
      "       promotion_last_5years  Department salary  \n",
      "2000                       0       sales    low  \n",
      "2001                       0       sales    low  \n",
      "2002                       0       sales    low  \n",
      "2003                       0       sales    low  \n",
      "2004                       0       sales    low  \n",
      "...                      ...         ...    ...  \n",
      "14206                      1  management   high  \n",
      "14207                      1  management   high  \n",
      "14208                      1  management   high  \n",
      "14209                      1   marketing   high  \n",
      "14210                      0          IT    low  \n",
      "\n",
      "[11428 rows x 10 columns]\n"
     ]
    }
   ],
   "source": [
    "stay=data[data.left==0] \n",
    "lt=data[data.left==1]\n",
    "print(stay)\n"
   ]
  },
  {
   "cell_type": "code",
   "execution_count": 13,
   "id": "0eff045d",
   "metadata": {},
   "outputs": [
    {
     "name": "stdout",
     "output_type": "stream",
     "text": [
      "       satisfaction_level  last_evaluation  number_project  \\\n",
      "0                    0.38             0.53               2   \n",
      "1                    0.80             0.86               5   \n",
      "2                    0.11             0.88               7   \n",
      "3                    0.72             0.87               5   \n",
      "4                    0.37             0.52               2   \n",
      "...                   ...              ...             ...   \n",
      "14994                0.40             0.57               2   \n",
      "14995                0.37             0.48               2   \n",
      "14996                0.37             0.53               2   \n",
      "14997                0.11             0.96               6   \n",
      "14998                0.37             0.52               2   \n",
      "\n",
      "       average_montly_hours  time_spend_company  Work_accident  left  \\\n",
      "0                       157                   3              0     1   \n",
      "1                       262                   6              0     1   \n",
      "2                       272                   4              0     1   \n",
      "3                       223                   5              0     1   \n",
      "4                       159                   3              0     1   \n",
      "...                     ...                 ...            ...   ...   \n",
      "14994                   151                   3              0     1   \n",
      "14995                   160                   3              0     1   \n",
      "14996                   143                   3              0     1   \n",
      "14997                   280                   4              0     1   \n",
      "14998                   158                   3              0     1   \n",
      "\n",
      "       promotion_last_5years Department  salary  \n",
      "0                          0      sales     low  \n",
      "1                          0      sales  medium  \n",
      "2                          0      sales  medium  \n",
      "3                          0      sales     low  \n",
      "4                          0      sales     low  \n",
      "...                      ...        ...     ...  \n",
      "14994                      0    support     low  \n",
      "14995                      0    support     low  \n",
      "14996                      0    support     low  \n",
      "14997                      0    support     low  \n",
      "14998                      0    support     low  \n",
      "\n",
      "[3571 rows x 10 columns]\n"
     ]
    }
   ],
   "source": [
    "print(lt)"
   ]
  },
  {
   "cell_type": "code",
   "execution_count": 14,
   "id": "ae8b04c0",
   "metadata": {},
   "outputs": [
    {
     "data": {
      "text/plain": [
       "(11428, 10)"
      ]
     },
     "execution_count": 14,
     "metadata": {},
     "output_type": "execute_result"
    }
   ],
   "source": [
    "stay.shape"
   ]
  },
  {
   "cell_type": "code",
   "execution_count": 15,
   "id": "3e8d9bab",
   "metadata": {},
   "outputs": [
    {
     "data": {
      "text/plain": [
       "(3571, 10)"
      ]
     },
     "execution_count": 15,
     "metadata": {},
     "output_type": "execute_result"
    }
   ],
   "source": [
    "lt.shape"
   ]
  },
  {
   "cell_type": "code",
   "execution_count": 16,
   "id": "e6c44a7f",
   "metadata": {},
   "outputs": [
    {
     "data": {
      "text/plain": [
       "<AxesSubplot:xlabel='Department', ylabel='count'>"
      ]
     },
     "execution_count": 16,
     "metadata": {},
     "output_type": "execute_result"
    },
    {
     "data": {
      "image/png": "[encoded data removed]",
      "text/plain": [
       "<Figure size 720x720 with 1 Axes>"
      ]
     },
     "metadata": {
      "needs_background": "light"
     },
     "output_type": "display_data"
    }
   ],
   "source": [
    "plt.figure(figsize=(10,10))\n",
    "sns.countplot('Department',hue='left',data=data)\n",
    "##As we can see the sales department employee has more attrition "
   ]
  },
  {
   "cell_type": "code",
   "execution_count": 17,
   "id": "f0c818e9",
   "metadata": {},
   "outputs": [
    {
     "data": {
      "text/plain": [
       "<AxesSubplot:xlabel='Work_accident', ylabel='count'>"
      ]
     },
     "execution_count": 17,
     "metadata": {},
     "output_type": "execute_result"
    },
    {
     "data": {
      "image/png": "[encoded data removed]",
      "text/plain": [
       "<Figure size 720x720 with 1 Axes>"
      ]
     },
     "metadata": {
      "needs_background": "light"
     },
     "output_type": "display_data"
    }
   ],
   "source": [
    "plt.figure(figsize=(10,10))\n",
    "sns.countplot('Work_accident',hue='left',data=data)\n",
    "#we can identifie that employee who does not had work accident have more no of attrition"
   ]
  },
  {
   "cell_type": "code",
   "execution_count": 18,
   "id": "0667d841",
   "metadata": {},
   "outputs": [
    {
     "data": {
      "text/plain": [
       "<AxesSubplot:xlabel='promotion_last_5years', ylabel='count'>"
      ]
     },
     "execution_count": 18,
     "metadata": {},
     "output_type": "execute_result"
    },
    {
     "data": {
      "image/png": "[encoded data removed]",
      "text/plain": [
       "<Figure size 720x720 with 1 Axes>"
      ]
     },
     "metadata": {
      "needs_background": "light"
     },
     "output_type": "display_data"
    }
   ],
   "source": [
    "plt.figure(figsize=(10,10))\n",
    "sns.countplot('promotion_last_5years',hue='left',data=data)\n",
    "#we can identifie that employee's who did not got promotion in last 5 years has more no of attrition"
   ]
  },
  {
   "cell_type": "code",
   "execution_count": 19,
   "id": "0dfe8749",
   "metadata": {},
   "outputs": [
    {
     "data": {
      "text/plain": [
       "<AxesSubplot:xlabel='number_project', ylabel='count'>"
      ]
     },
     "execution_count": 19,
     "metadata": {},
     "output_type": "execute_result"
    },
    {
     "data": {
      "image/png": "[encoded data removed]",
      "text/plain": [
       "<Figure size 720x720 with 1 Axes>"
      ]
     },
     "metadata": {
      "needs_background": "light"
     },
     "output_type": "display_data"
    }
   ],
   "source": [
    "plt.figure(figsize=(10,10))\n",
    "sns.countplot('number_project',hue='left',data=data)\n",
    "#we can identifie that employee's who got 2 or less than 2 projects has more number of attrition"
   ]
  },
  {
   "cell_type": "code",
   "execution_count": 20,
   "id": "b85311f4",
   "metadata": {},
   "outputs": [
    {
     "data": {
      "text/plain": [
       "<AxesSubplot:xlabel='time_spend_company', ylabel='count'>"
      ]
     },
     "execution_count": 20,
     "metadata": {},
     "output_type": "execute_result"
    },
    {
     "data": {
      "image/png": "[encoded data removed]",
      "text/plain": [
       "<Figure size 720x720 with 1 Axes>"
      ]
     },
     "metadata": {
      "needs_background": "light"
     },
     "output_type": "display_data"
    }
   ],
   "source": [
    "plt.figure(figsize=(10,10))\n",
    "sns.countplot('time_spend_company',hue='left',data=data)\n",
    "#we can identifie that employee's who spent time between 3 to 6 has more no of attrition"
   ]
  },
  {
   "cell_type": "code",
   "execution_count": 21,
   "id": "6055c87f",
   "metadata": {},
   "outputs": [
    {
     "data": {
      "text/plain": [
       "<AxesSubplot:xlabel='sat_band', ylabel='count'>"
      ]
     },
     "execution_count": 21,
     "metadata": {},
     "output_type": "execute_result"
    },
    {
     "data": {
      "image/png": "[encoded data removed]",
      "text/plain": [
       "<Figure size 720x504 with 1 Axes>"
      ]
     },
     "metadata": {
      "needs_background": "light"
     },
     "output_type": "display_data"
    }
   ],
   "source": [
    "#satisfaction_level start from 0.0 to 1.0 \n",
    "data['sat_band']=0\n",
    "data.loc[(data['satisfaction_level']>=0.0) & (data['satisfaction_level']<=0.25),'sat_band']=0\n",
    "data.loc[(data['satisfaction_level']>0.25) & (data['satisfaction_level']<=0.50),'sat_band']=1\n",
    "data.loc[(data['satisfaction_level']>0.50) & (data['satisfaction_level']<=0.75),'sat_band']=2\n",
    "data.loc[(data['satisfaction_level']>0.92),'sat_band']=3\n",
    "data[['satisfaction_level','sat_band']].head()\n",
    "plt.figure(figsize=(10,7))\n",
    "sns.countplot('sat_band',hue='left',data=data)\n",
    "# we can identifie that employee's who rated between 0.0 to 0.75 has more attrition\n"
   ]
  },
  {
   "cell_type": "code",
   "execution_count": 22,
   "id": "efb4e650",
   "metadata": {},
   "outputs": [
    {
     "data": {
      "text/plain": [
       "<AxesSubplot:xlabel='last_band', ylabel='count'>"
      ]
     },
     "execution_count": 22,
     "metadata": {},
     "output_type": "execute_result"
    },
    {
     "data": {
      "image/png": "[encoded data removed]",
      "text/plain": [
       "<Figure size 720x576 with 1 Axes>"
      ]
     },
     "metadata": {
      "needs_background": "light"
     },
     "output_type": "display_data"
    }
   ],
   "source": [
    "\n",
    "data['last_band']=0\n",
    "data.loc[(data['last_evaluation']>=0) & (data['last_evaluation']<=0.5),'last_band']=0\n",
    "data.loc[(data['last_evaluation']>0.5) & (data['last_evaluation']<=0.7),'last_band']=1\n",
    "data.loc[(data['last_evaluation']>0.7) & (data['last_evaluation']<=1.0),'last_band']=2\n",
    "data[['last_evaluation','last_band']].head()\n",
    "plt.figure(figsize=(10,8))\n",
    "sns.countplot('last_band',hue='left',data=data)\n",
    "#we can identifie the employee's who got rating more than 0.7 have more attrition"
   ]
  },
  {
   "cell_type": "code",
   "execution_count": 23,
   "id": "7b49dd76",
   "metadata": {},
   "outputs": [
    {
     "data": {
      "text/plain": [
       "<AxesSubplot:xlabel='salary', ylabel='count'>"
      ]
     },
     "execution_count": 23,
     "metadata": {},
     "output_type": "execute_result"
    },
    {
     "data": {
      "image/png": "[encoded data removed]",
      "text/plain": [
       "<Figure size 720x720 with 1 Axes>"
      ]
     },
     "metadata": {
      "needs_background": "light"
     },
     "output_type": "display_data"
    }
   ],
   "source": [
    "plt.figure(figsize=(10,10))\n",
    "sns.countplot('salary',hue='left',data=data)\n",
    "#It can be clearly seen that most of the employees who left the job were earning low income or medium income \n",
    "#and very less proportion of employees are there who left their job and were earning hign income.\n",
    "#This implies that Salary is a major factor in determining the Employee Retention"
   ]
  },
  {
   "cell_type": "code",
   "execution_count": 24,
   "id": "4dee1675",
   "metadata": {},
   "outputs": [
    {
     "data": {
      "text/html": [
       "<div>\n",
       "<style scoped>\n",
       "    .dataframe tbody tr th:only-of-type {\n",
       "        vertical-align: middle;\n",
       "    }\n",
       "\n",
       "    .dataframe tbody tr th {\n",
       "        vertical-align: top;\n",
       "    }\n",
       "\n",
       "    .dataframe thead th {\n",
       "        text-align: right;\n",
       "    }\n",
       "</style>\n",
       "<table border=\"1\" class=\"dataframe\">\n",
       "  <thead>\n",
       "    <tr style=\"text-align: right;\">\n",
       "      <th></th>\n",
       "      <th>satisfaction_level</th>\n",
       "      <th>last_evaluation</th>\n",
       "      <th>number_project</th>\n",
       "      <th>average_montly_hours</th>\n",
       "      <th>time_spend_company</th>\n",
       "      <th>Work_accident</th>\n",
       "      <th>left</th>\n",
       "      <th>promotion_last_5years</th>\n",
       "      <th>Department</th>\n",
       "      <th>salary</th>\n",
       "      <th>sat_band</th>\n",
       "      <th>last_band</th>\n",
       "    </tr>\n",
       "  </thead>\n",
       "  <tbody>\n",
       "    <tr>\n",
       "      <th>0</th>\n",
       "      <td>0.38</td>\n",
       "      <td>0.53</td>\n",
       "      <td>2</td>\n",
       "      <td>157</td>\n",
       "      <td>3</td>\n",
       "      <td>0</td>\n",
       "      <td>1</td>\n",
       "      <td>0</td>\n",
       "      <td>sales</td>\n",
       "      <td>low</td>\n",
       "      <td>1</td>\n",
       "      <td>1</td>\n",
       "    </tr>\n",
       "    <tr>\n",
       "      <th>1</th>\n",
       "      <td>0.80</td>\n",
       "      <td>0.86</td>\n",
       "      <td>5</td>\n",
       "      <td>262</td>\n",
       "      <td>6</td>\n",
       "      <td>0</td>\n",
       "      <td>1</td>\n",
       "      <td>0</td>\n",
       "      <td>sales</td>\n",
       "      <td>medium</td>\n",
       "      <td>0</td>\n",
       "      <td>2</td>\n",
       "    </tr>\n",
       "    <tr>\n",
       "      <th>2</th>\n",
       "      <td>0.11</td>\n",
       "      <td>0.88</td>\n",
       "      <td>7</td>\n",
       "      <td>272</td>\n",
       "      <td>4</td>\n",
       "      <td>0</td>\n",
       "      <td>1</td>\n",
       "      <td>0</td>\n",
       "      <td>sales</td>\n",
       "      <td>medium</td>\n",
       "      <td>0</td>\n",
       "      <td>2</td>\n",
       "    </tr>\n",
       "    <tr>\n",
       "      <th>3</th>\n",
       "      <td>0.72</td>\n",
       "      <td>0.87</td>\n",
       "      <td>5</td>\n",
       "      <td>223</td>\n",
       "      <td>5</td>\n",
       "      <td>0</td>\n",
       "      <td>1</td>\n",
       "      <td>0</td>\n",
       "      <td>sales</td>\n",
       "      <td>low</td>\n",
       "      <td>2</td>\n",
       "      <td>2</td>\n",
       "    </tr>\n",
       "    <tr>\n",
       "      <th>4</th>\n",
       "      <td>0.37</td>\n",
       "      <td>0.52</td>\n",
       "      <td>2</td>\n",
       "      <td>159</td>\n",
       "      <td>3</td>\n",
       "      <td>0</td>\n",
       "      <td>1</td>\n",
       "      <td>0</td>\n",
       "      <td>sales</td>\n",
       "      <td>low</td>\n",
       "      <td>1</td>\n",
       "      <td>1</td>\n",
       "    </tr>\n",
       "    <tr>\n",
       "      <th>...</th>\n",
       "      <td>...</td>\n",
       "      <td>...</td>\n",
       "      <td>...</td>\n",
       "      <td>...</td>\n",
       "      <td>...</td>\n",
       "      <td>...</td>\n",
       "      <td>...</td>\n",
       "      <td>...</td>\n",
       "      <td>...</td>\n",
       "      <td>...</td>\n",
       "      <td>...</td>\n",
       "      <td>...</td>\n",
       "    </tr>\n",
       "    <tr>\n",
       "      <th>14994</th>\n",
       "      <td>0.40</td>\n",
       "      <td>0.57</td>\n",
       "      <td>2</td>\n",
       "      <td>151</td>\n",
       "      <td>3</td>\n",
       "      <td>0</td>\n",
       "      <td>1</td>\n",
       "      <td>0</td>\n",
       "      <td>support</td>\n",
       "      <td>low</td>\n",
       "      <td>1</td>\n",
       "      <td>1</td>\n",
       "    </tr>\n",
       "    <tr>\n",
       "      <th>14995</th>\n",
       "      <td>0.37</td>\n",
       "      <td>0.48</td>\n",
       "      <td>2</td>\n",
       "      <td>160</td>\n",
       "      <td>3</td>\n",
       "      <td>0</td>\n",
       "      <td>1</td>\n",
       "      <td>0</td>\n",
       "      <td>support</td>\n",
       "      <td>low</td>\n",
       "      <td>1</td>\n",
       "      <td>0</td>\n",
       "    </tr>\n",
       "    <tr>\n",
       "      <th>14996</th>\n",
       "      <td>0.37</td>\n",
       "      <td>0.53</td>\n",
       "      <td>2</td>\n",
       "      <td>143</td>\n",
       "      <td>3</td>\n",
       "      <td>0</td>\n",
       "      <td>1</td>\n",
       "      <td>0</td>\n",
       "      <td>support</td>\n",
       "      <td>low</td>\n",
       "      <td>1</td>\n",
       "      <td>1</td>\n",
       "    </tr>\n",
       "    <tr>\n",
       "      <th>14997</th>\n",
       "      <td>0.11</td>\n",
       "      <td>0.96</td>\n",
       "      <td>6</td>\n",
       "      <td>280</td>\n",
       "      <td>4</td>\n",
       "      <td>0</td>\n",
       "      <td>1</td>\n",
       "      <td>0</td>\n",
       "      <td>support</td>\n",
       "      <td>low</td>\n",
       "      <td>0</td>\n",
       "      <td>2</td>\n",
       "    </tr>\n",
       "    <tr>\n",
       "      <th>14998</th>\n",
       "      <td>0.37</td>\n",
       "      <td>0.52</td>\n",
       "      <td>2</td>\n",
       "      <td>158</td>\n",
       "      <td>3</td>\n",
       "      <td>0</td>\n",
       "      <td>1</td>\n",
       "      <td>0</td>\n",
       "      <td>support</td>\n",
       "      <td>low</td>\n",
       "      <td>1</td>\n",
       "      <td>1</td>\n",
       "    </tr>\n",
       "  </tbody>\n",
       "</table>\n",
       "<p>14999 rows × 12 columns</p>\n",
       "</div>"
      ],
      "text/plain": [
       "       satisfaction_level  last_evaluation  number_project  \\\n",
       "0                    0.38             0.53               2   \n",
       "1                    0.80             0.86               5   \n",
       "2                    0.11             0.88               7   \n",
       "3                    0.72             0.87               5   \n",
       "4                    0.37             0.52               2   \n",
       "...                   ...              ...             ...   \n",
       "14994                0.40             0.57               2   \n",
       "14995                0.37             0.48               2   \n",
       "14996                0.37             0.53               2   \n",
       "14997                0.11             0.96               6   \n",
       "14998                0.37             0.52               2   \n",
       "\n",
       "       average_montly_hours  time_spend_company  Work_accident  left  \\\n",
       "0                       157                   3              0     1   \n",
       "1                       262                   6              0     1   \n",
       "2                       272                   4              0     1   \n",
       "3                       223                   5              0     1   \n",
       "4                       159                   3              0     1   \n",
       "...                     ...                 ...            ...   ...   \n",
       "14994                   151                   3              0     1   \n",
       "14995                   160                   3              0     1   \n",
       "14996                   143                   3              0     1   \n",
       "14997                   280                   4              0     1   \n",
       "14998                   158                   3              0     1   \n",
       "\n",
       "       promotion_last_5years Department  salary  sat_band  last_band  \n",
       "0                          0      sales     low         1          1  \n",
       "1                          0      sales  medium         0          2  \n",
       "2                          0      sales  medium         0          2  \n",
       "3                          0      sales     low         2          2  \n",
       "4                          0      sales     low         1          1  \n",
       "...                      ...        ...     ...       ...        ...  \n",
       "14994                      0    support     low         1          1  \n",
       "14995                      0    support     low         1          0  \n",
       "14996                      0    support     low         1          1  \n",
       "14997                      0    support     low         0          2  \n",
       "14998                      0    support     low         1          1  \n",
       "\n",
       "[14999 rows x 12 columns]"
      ]
     },
     "execution_count": 24,
     "metadata": {},
     "output_type": "execute_result"
    }
   ],
   "source": [
    "data"
   ]
  },
  {
   "cell_type": "code",
   "execution_count": 25,
   "id": "37fe841d",
   "metadata": {},
   "outputs": [
    {
     "data": {
      "text/plain": [
       "<AxesSubplot:>"
      ]
     },
     "execution_count": 25,
     "metadata": {},
     "output_type": "execute_result"
    },
    {
     "data": {
      "image/png": "[encoded data removed]",
      "text/plain": [
       "<Figure size 720x504 with 2 Axes>"
      ]
     },
     "metadata": {
      "needs_background": "light"
     },
     "output_type": "display_data"
    }
   ],
   "source": [
    "%matplotlib inline\n",
    "plt.figure(figsize=(10,7))\n",
    "sns.heatmap(data_copy.corr(),annot=True,cmap=\"YlGnBu\",linewidths=0.2)\n",
    "#3 negative correlation – satisfaction level, work accident and promotion last 5 year(negligible)\n"
   ]
  },
  {
   "cell_type": "code",
   "execution_count": 26,
   "id": "bdb1a9a4",
   "metadata": {},
   "outputs": [
    {
     "data": {
      "text/plain": [
       "0    11428\n",
       "1     3571\n",
       "Name: left, dtype: int64"
      ]
     },
     "execution_count": 26,
     "metadata": {},
     "output_type": "execute_result"
    }
   ],
   "source": [
    "data[\"left\"].value_counts()"
   ]
  },
  {
   "cell_type": "code",
   "execution_count": 27,
   "id": "e4ed2b47",
   "metadata": {},
   "outputs": [],
   "source": [
    "stay_sample=stay.sample(n=3571)#taking sample values from stay \n",
    "new=pd.concat([stay_sample,lt],axis=0)"
   ]
  },
  {
   "cell_type": "code",
   "execution_count": 28,
   "id": "fb59084e",
   "metadata": {},
   "outputs": [
    {
     "data": {
      "text/html": [
       "<div>\n",
       "<style scoped>\n",
       "    .dataframe tbody tr th:only-of-type {\n",
       "        vertical-align: middle;\n",
       "    }\n",
       "\n",
       "    .dataframe tbody tr th {\n",
       "        vertical-align: top;\n",
       "    }\n",
       "\n",
       "    .dataframe thead th {\n",
       "        text-align: right;\n",
       "    }\n",
       "</style>\n",
       "<table border=\"1\" class=\"dataframe\">\n",
       "  <thead>\n",
       "    <tr style=\"text-align: right;\">\n",
       "      <th></th>\n",
       "      <th>satisfaction_level</th>\n",
       "      <th>last_evaluation</th>\n",
       "      <th>number_project</th>\n",
       "      <th>average_montly_hours</th>\n",
       "      <th>time_spend_company</th>\n",
       "      <th>Work_accident</th>\n",
       "      <th>left</th>\n",
       "      <th>promotion_last_5years</th>\n",
       "      <th>Department</th>\n",
       "      <th>salary</th>\n",
       "    </tr>\n",
       "  </thead>\n",
       "  <tbody>\n",
       "    <tr>\n",
       "      <th>6844</th>\n",
       "      <td>0.76</td>\n",
       "      <td>0.77</td>\n",
       "      <td>5</td>\n",
       "      <td>234</td>\n",
       "      <td>3</td>\n",
       "      <td>0</td>\n",
       "      <td>0</td>\n",
       "      <td>0</td>\n",
       "      <td>support</td>\n",
       "      <td>low</td>\n",
       "    </tr>\n",
       "    <tr>\n",
       "      <th>4369</th>\n",
       "      <td>0.84</td>\n",
       "      <td>0.97</td>\n",
       "      <td>4</td>\n",
       "      <td>253</td>\n",
       "      <td>2</td>\n",
       "      <td>1</td>\n",
       "      <td>0</td>\n",
       "      <td>0</td>\n",
       "      <td>sales</td>\n",
       "      <td>low</td>\n",
       "    </tr>\n",
       "    <tr>\n",
       "      <th>11152</th>\n",
       "      <td>0.99</td>\n",
       "      <td>0.80</td>\n",
       "      <td>3</td>\n",
       "      <td>209</td>\n",
       "      <td>2</td>\n",
       "      <td>0</td>\n",
       "      <td>0</td>\n",
       "      <td>0</td>\n",
       "      <td>support</td>\n",
       "      <td>medium</td>\n",
       "    </tr>\n",
       "    <tr>\n",
       "      <th>3837</th>\n",
       "      <td>0.76</td>\n",
       "      <td>0.65</td>\n",
       "      <td>3</td>\n",
       "      <td>220</td>\n",
       "      <td>3</td>\n",
       "      <td>0</td>\n",
       "      <td>0</td>\n",
       "      <td>0</td>\n",
       "      <td>sales</td>\n",
       "      <td>low</td>\n",
       "    </tr>\n",
       "    <tr>\n",
       "      <th>9273</th>\n",
       "      <td>0.50</td>\n",
       "      <td>0.64</td>\n",
       "      <td>3</td>\n",
       "      <td>249</td>\n",
       "      <td>2</td>\n",
       "      <td>1</td>\n",
       "      <td>0</td>\n",
       "      <td>0</td>\n",
       "      <td>technical</td>\n",
       "      <td>low</td>\n",
       "    </tr>\n",
       "  </tbody>\n",
       "</table>\n",
       "</div>"
      ],
      "text/plain": [
       "       satisfaction_level  last_evaluation  number_project  \\\n",
       "6844                 0.76             0.77               5   \n",
       "4369                 0.84             0.97               4   \n",
       "11152                0.99             0.80               3   \n",
       "3837                 0.76             0.65               3   \n",
       "9273                 0.50             0.64               3   \n",
       "\n",
       "       average_montly_hours  time_spend_company  Work_accident  left  \\\n",
       "6844                    234                   3              0     0   \n",
       "4369                    253                   2              1     0   \n",
       "11152                   209                   2              0     0   \n",
       "3837                    220                   3              0     0   \n",
       "9273                    249                   2              1     0   \n",
       "\n",
       "       promotion_last_5years Department  salary  \n",
       "6844                       0    support     low  \n",
       "4369                       0      sales     low  \n",
       "11152                      0    support  medium  \n",
       "3837                       0      sales     low  \n",
       "9273                       0  technical     low  "
      ]
     },
     "execution_count": 28,
     "metadata": {},
     "output_type": "execute_result"
    }
   ],
   "source": [
    "new.head()"
   ]
  },
  {
   "cell_type": "code",
   "execution_count": 29,
   "id": "94cf1c05",
   "metadata": {},
   "outputs": [
    {
     "data": {
      "text/html": [
       "<div>\n",
       "<style scoped>\n",
       "    .dataframe tbody tr th:only-of-type {\n",
       "        vertical-align: middle;\n",
       "    }\n",
       "\n",
       "    .dataframe tbody tr th {\n",
       "        vertical-align: top;\n",
       "    }\n",
       "\n",
       "    .dataframe thead th {\n",
       "        text-align: right;\n",
       "    }\n",
       "</style>\n",
       "<table border=\"1\" class=\"dataframe\">\n",
       "  <thead>\n",
       "    <tr style=\"text-align: right;\">\n",
       "      <th></th>\n",
       "      <th>satisfaction_level</th>\n",
       "      <th>last_evaluation</th>\n",
       "      <th>number_project</th>\n",
       "      <th>average_montly_hours</th>\n",
       "      <th>time_spend_company</th>\n",
       "      <th>Work_accident</th>\n",
       "      <th>left</th>\n",
       "      <th>promotion_last_5years</th>\n",
       "      <th>Department</th>\n",
       "      <th>salary</th>\n",
       "    </tr>\n",
       "  </thead>\n",
       "  <tbody>\n",
       "    <tr>\n",
       "      <th>14994</th>\n",
       "      <td>0.40</td>\n",
       "      <td>0.57</td>\n",
       "      <td>2</td>\n",
       "      <td>151</td>\n",
       "      <td>3</td>\n",
       "      <td>0</td>\n",
       "      <td>1</td>\n",
       "      <td>0</td>\n",
       "      <td>support</td>\n",
       "      <td>low</td>\n",
       "    </tr>\n",
       "    <tr>\n",
       "      <th>14995</th>\n",
       "      <td>0.37</td>\n",
       "      <td>0.48</td>\n",
       "      <td>2</td>\n",
       "      <td>160</td>\n",
       "      <td>3</td>\n",
       "      <td>0</td>\n",
       "      <td>1</td>\n",
       "      <td>0</td>\n",
       "      <td>support</td>\n",
       "      <td>low</td>\n",
       "    </tr>\n",
       "    <tr>\n",
       "      <th>14996</th>\n",
       "      <td>0.37</td>\n",
       "      <td>0.53</td>\n",
       "      <td>2</td>\n",
       "      <td>143</td>\n",
       "      <td>3</td>\n",
       "      <td>0</td>\n",
       "      <td>1</td>\n",
       "      <td>0</td>\n",
       "      <td>support</td>\n",
       "      <td>low</td>\n",
       "    </tr>\n",
       "    <tr>\n",
       "      <th>14997</th>\n",
       "      <td>0.11</td>\n",
       "      <td>0.96</td>\n",
       "      <td>6</td>\n",
       "      <td>280</td>\n",
       "      <td>4</td>\n",
       "      <td>0</td>\n",
       "      <td>1</td>\n",
       "      <td>0</td>\n",
       "      <td>support</td>\n",
       "      <td>low</td>\n",
       "    </tr>\n",
       "    <tr>\n",
       "      <th>14998</th>\n",
       "      <td>0.37</td>\n",
       "      <td>0.52</td>\n",
       "      <td>2</td>\n",
       "      <td>158</td>\n",
       "      <td>3</td>\n",
       "      <td>0</td>\n",
       "      <td>1</td>\n",
       "      <td>0</td>\n",
       "      <td>support</td>\n",
       "      <td>low</td>\n",
       "    </tr>\n",
       "  </tbody>\n",
       "</table>\n",
       "</div>"
      ],
      "text/plain": [
       "       satisfaction_level  last_evaluation  number_project  \\\n",
       "14994                0.40             0.57               2   \n",
       "14995                0.37             0.48               2   \n",
       "14996                0.37             0.53               2   \n",
       "14997                0.11             0.96               6   \n",
       "14998                0.37             0.52               2   \n",
       "\n",
       "       average_montly_hours  time_spend_company  Work_accident  left  \\\n",
       "14994                   151                   3              0     1   \n",
       "14995                   160                   3              0     1   \n",
       "14996                   143                   3              0     1   \n",
       "14997                   280                   4              0     1   \n",
       "14998                   158                   3              0     1   \n",
       "\n",
       "       promotion_last_5years Department salary  \n",
       "14994                      0    support    low  \n",
       "14995                      0    support    low  \n",
       "14996                      0    support    low  \n",
       "14997                      0    support    low  \n",
       "14998                      0    support    low  "
      ]
     },
     "execution_count": 29,
     "metadata": {},
     "output_type": "execute_result"
    }
   ],
   "source": [
    "new.tail()"
   ]
  },
  {
   "cell_type": "code",
   "execution_count": 30,
   "id": "335f1555",
   "metadata": {},
   "outputs": [
    {
     "data": {
      "text/plain": [
       "0    3571\n",
       "1    3571\n",
       "Name: left, dtype: int64"
      ]
     },
     "execution_count": 30,
     "metadata": {},
     "output_type": "execute_result"
    }
   ],
   "source": [
    "new[\"left\"].value_counts()"
   ]
  },
  {
   "cell_type": "code",
   "execution_count": 31,
   "id": "b4cc25e2",
   "metadata": {},
   "outputs": [
    {
     "data": {
      "text/html": [
       "<div>\n",
       "<style scoped>\n",
       "    .dataframe tbody tr th:only-of-type {\n",
       "        vertical-align: middle;\n",
       "    }\n",
       "\n",
       "    .dataframe tbody tr th {\n",
       "        vertical-align: top;\n",
       "    }\n",
       "\n",
       "    .dataframe thead th {\n",
       "        text-align: right;\n",
       "    }\n",
       "</style>\n",
       "<table border=\"1\" class=\"dataframe\">\n",
       "  <thead>\n",
       "    <tr style=\"text-align: right;\">\n",
       "      <th></th>\n",
       "      <th>satisfaction_level</th>\n",
       "      <th>last_evaluation</th>\n",
       "      <th>number_project</th>\n",
       "      <th>average_montly_hours</th>\n",
       "      <th>time_spend_company</th>\n",
       "      <th>Work_accident</th>\n",
       "      <th>promotion_last_5years</th>\n",
       "    </tr>\n",
       "    <tr>\n",
       "      <th>left</th>\n",
       "      <th></th>\n",
       "      <th></th>\n",
       "      <th></th>\n",
       "      <th></th>\n",
       "      <th></th>\n",
       "      <th></th>\n",
       "      <th></th>\n",
       "    </tr>\n",
       "  </thead>\n",
       "  <tbody>\n",
       "    <tr>\n",
       "      <th>0</th>\n",
       "      <td>0.659667</td>\n",
       "      <td>0.716690</td>\n",
       "      <td>3.777653</td>\n",
       "      <td>198.958835</td>\n",
       "      <td>3.396528</td>\n",
       "      <td>0.175301</td>\n",
       "      <td>0.024083</td>\n",
       "    </tr>\n",
       "    <tr>\n",
       "      <th>1</th>\n",
       "      <td>0.440098</td>\n",
       "      <td>0.718113</td>\n",
       "      <td>3.855503</td>\n",
       "      <td>207.419210</td>\n",
       "      <td>3.876505</td>\n",
       "      <td>0.047326</td>\n",
       "      <td>0.005321</td>\n",
       "    </tr>\n",
       "  </tbody>\n",
       "</table>\n",
       "</div>"
      ],
      "text/plain": [
       "      satisfaction_level  last_evaluation  number_project  \\\n",
       "left                                                        \n",
       "0               0.659667         0.716690        3.777653   \n",
       "1               0.440098         0.718113        3.855503   \n",
       "\n",
       "      average_montly_hours  time_spend_company  Work_accident  \\\n",
       "left                                                            \n",
       "0               198.958835            3.396528       0.175301   \n",
       "1               207.419210            3.876505       0.047326   \n",
       "\n",
       "      promotion_last_5years  \n",
       "left                         \n",
       "0                  0.024083  \n",
       "1                  0.005321  "
      ]
     },
     "execution_count": 31,
     "metadata": {},
     "output_type": "execute_result"
    }
   ],
   "source": [
    "new.groupby(\"left\").mean()"
   ]
  },
  {
   "cell_type": "code",
   "execution_count": 32,
   "id": "9348bdb5",
   "metadata": {},
   "outputs": [
    {
     "name": "stdout",
     "output_type": "stream",
     "text": [
      "       satisfaction_level  last_evaluation  number_project  \\\n",
      "6844                 0.76             0.77               5   \n",
      "4369                 0.84             0.97               4   \n",
      "11152                0.99             0.80               3   \n",
      "3837                 0.76             0.65               3   \n",
      "9273                 0.50             0.64               3   \n",
      "...                   ...              ...             ...   \n",
      "14994                0.40             0.57               2   \n",
      "14995                0.37             0.48               2   \n",
      "14996                0.37             0.53               2   \n",
      "14997                0.11             0.96               6   \n",
      "14998                0.37             0.52               2   \n",
      "\n",
      "       average_montly_hours  time_spend_company  Work_accident  \\\n",
      "6844                    234                   3              0   \n",
      "4369                    253                   2              1   \n",
      "11152                   209                   2              0   \n",
      "3837                    220                   3              0   \n",
      "9273                    249                   2              1   \n",
      "...                     ...                 ...            ...   \n",
      "14994                   151                   3              0   \n",
      "14995                   160                   3              0   \n",
      "14996                   143                   3              0   \n",
      "14997                   280                   4              0   \n",
      "14998                   158                   3              0   \n",
      "\n",
      "       promotion_last_5years  Department  salary  \n",
      "6844                       0           8       1  \n",
      "4369                       0           7       1  \n",
      "11152                      0           8       2  \n",
      "3837                       0           7       1  \n",
      "9273                       0           9       1  \n",
      "...                      ...         ...     ...  \n",
      "14994                      0           8       1  \n",
      "14995                      0           8       1  \n",
      "14996                      0           8       1  \n",
      "14997                      0           8       1  \n",
      "14998                      0           8       1  \n",
      "\n",
      "[7142 rows x 9 columns]\n",
      "........................................................\n",
      "6844     0\n",
      "4369     0\n",
      "11152    0\n",
      "3837     0\n",
      "9273     0\n",
      "        ..\n",
      "14994    1\n",
      "14995    1\n",
      "14996    1\n",
      "14997    1\n",
      "14998    1\n",
      "Name: left, Length: 7142, dtype: int64\n"
     ]
    }
   ],
   "source": [
    "from sklearn.preprocessing import LabelEncoder\n",
    "object_cols = ['Department','salary']\n",
    "label_encoder = LabelEncoder()\n",
    "for col in object_cols:\n",
    "    label_encoder.fit(new[col])\n",
    "    new[col] = label_encoder.transform(new[col])\n",
    "x=new.drop(columns=[\"left\"],axis=1)\n",
    "y=new[\"left\"]\n",
    "print(x)\n",
    "print(\"........................................................\")\n",
    "print(y)"
   ]
  },
  {
   "cell_type": "code",
   "execution_count": 33,
   "id": "0f0c734d",
   "metadata": {},
   "outputs": [
    {
     "data": {
      "text/plain": [
       "array([8, 7, 9, 2, 4, 5, 3, 6, 0, 1])"
      ]
     },
     "execution_count": 33,
     "metadata": {},
     "output_type": "execute_result"
    }
   ],
   "source": [
    "new.head()\n",
    "new['Department'].unique()"
   ]
  },
  {
   "cell_type": "code",
   "execution_count": 34,
   "id": "01fe8dc8",
   "metadata": {},
   "outputs": [
    {
     "data": {
      "text/plain": [
       "array([1, 2, 0])"
      ]
     },
     "execution_count": 34,
     "metadata": {},
     "output_type": "execute_result"
    }
   ],
   "source": [
    "new['salary'].unique()"
   ]
  },
  {
   "cell_type": "code",
   "execution_count": 35,
   "id": "09e9d949",
   "metadata": {},
   "outputs": [
    {
     "name": "stdout",
     "output_type": "stream",
     "text": [
      "       satisfaction_level  last_evaluation  number_project  \\\n",
      "6844                 0.76             0.77               5   \n",
      "4369                 0.84             0.97               4   \n",
      "11152                0.99             0.80               3   \n",
      "3837                 0.76             0.65               3   \n",
      "9273                 0.50             0.64               3   \n",
      "...                   ...              ...             ...   \n",
      "14994                0.40             0.57               2   \n",
      "14995                0.37             0.48               2   \n",
      "14996                0.37             0.53               2   \n",
      "14997                0.11             0.96               6   \n",
      "14998                0.37             0.52               2   \n",
      "\n",
      "       average_montly_hours  time_spend_company  Work_accident  left  \\\n",
      "6844                    234                   3              0     0   \n",
      "4369                    253                   2              1     0   \n",
      "11152                   209                   2              0     0   \n",
      "3837                    220                   3              0     0   \n",
      "9273                    249                   2              1     0   \n",
      "...                     ...                 ...            ...   ...   \n",
      "14994                   151                   3              0     1   \n",
      "14995                   160                   3              0     1   \n",
      "14996                   143                   3              0     1   \n",
      "14997                   280                   4              0     1   \n",
      "14998                   158                   3              0     1   \n",
      "\n",
      "       promotion_last_5years  Department  salary  \n",
      "6844                       0           8       1  \n",
      "4369                       0           7       1  \n",
      "11152                      0           8       2  \n",
      "3837                       0           7       1  \n",
      "9273                       0           9       1  \n",
      "...                      ...         ...     ...  \n",
      "14994                      0           8       1  \n",
      "14995                      0           8       1  \n",
      "14996                      0           8       1  \n",
      "14997                      0           8       1  \n",
      "14998                      0           8       1  \n",
      "\n",
      "[7142 rows x 10 columns]\n"
     ]
    }
   ],
   "source": [
    "print(new)"
   ]
  },
  {
   "cell_type": "markdown",
   "id": "13b8abd5",
   "metadata": {},
   "source": [
    "Steps To Be followed When Applying an Algorithm\n",
    " 1.Split the dataset into training and testing dataset. The testing dataset is generally smaller than training one as it will      help in training the model better.\n",
    " 2.Select any algorithm based on the problem (classification or regression) whatever its good.\n",
    " 3.Then pass the training dataset to the algorithm to train it. We use the .fit() method\n",
    " 4.Then pass the testing data to the trained algorithm to predict the outcome. We use the .predict() method.\n",
    " 5.We then check the accuracy by passing the predicted outcome and the actual output to the model."
   ]
  },
  {
   "cell_type": "code",
   "execution_count": 36,
   "id": "8edff51d",
   "metadata": {},
   "outputs": [],
   "source": [
    "# importing alll the necessary packages to use the various classification algorithms\n",
    "from sklearn.model_selection import train_test_split\n",
    "from sklearn.linear_model import LogisticRegression # for Logistic Regression algorithm\n",
    "from sklearn import svm #for Support Vector Machine (SVM) Algorithm\n",
    "from sklearn.tree import DecisionTreeClassifier#for using Decision Tree Algoithm  \n",
    "from sklearn.metrics import accuracy_score  #for checking the model accuracy"
   ]
  },
  {
   "cell_type": "markdown",
   "id": "28fbb02e",
   "metadata": {},
   "source": [
    "# spliting data into training data and test data¶"
   ]
  },
  {
   "cell_type": "code",
   "execution_count": 37,
   "id": "f95e8cc1",
   "metadata": {},
   "outputs": [],
   "source": [
    "x_train,x_test,y_train,y_test = train_test_split(x,y,test_size =0.20, random_state=2)"
   ]
  },
  {
   "cell_type": "code",
   "execution_count": 38,
   "id": "fe2658ab",
   "metadata": {},
   "outputs": [
    {
     "name": "stdout",
     "output_type": "stream",
     "text": [
      "(7142, 9) (5713, 9) (1429, 9)\n"
     ]
    }
   ],
   "source": [
    "print(x.shape,x_train.shape,x_test.shape)"
   ]
  },
  {
   "cell_type": "code",
   "execution_count": 39,
   "id": "7901213e",
   "metadata": {},
   "outputs": [
    {
     "data": {
      "text/plain": [
       "LogisticRegression()"
      ]
     },
     "execution_count": 39,
     "metadata": {},
     "output_type": "execute_result"
    }
   ],
   "source": [
    "model=LogisticRegression()\n",
    "#training the logistic regression model with training data\n",
    "model.fit(x_train, y_train)#fit function is use relation between this features that are present in xtrain and corressponding taget"
   ]
  },
  {
   "cell_type": "code",
   "execution_count": 40,
   "id": "7bd0d04e",
   "metadata": {},
   "outputs": [
    {
     "name": "stdout",
     "output_type": "stream",
     "text": [
      "74.91685629266584\n"
     ]
    }
   ],
   "source": [
    "#accuracy on training data\n",
    "x_train_prediction= model.predict(x_train)\n",
    "training_data_accuracy=accuracy_score(x_train_prediction,y_train)\n",
    "print((training_data_accuracy)*100)"
   ]
  },
  {
   "cell_type": "code",
   "execution_count": 41,
   "id": "ad32d294",
   "metadata": {},
   "outputs": [
    {
     "name": "stdout",
     "output_type": "stream",
     "text": [
      "75.15745276417076\n"
     ]
    }
   ],
   "source": [
    "x_test_prediction= model.predict(x_test)\n",
    "test_data_accuracy=accuracy_score(x_test_prediction,y_test)\n",
    "print((test_data_accuracy)*100)"
   ]
  },
  {
   "cell_type": "markdown",
   "id": "d14e3bc5",
   "metadata": {},
   "source": [
    "LogisticRegression is giving good accuracy value . We will continue to check the accuracy for different models."
   ]
  },
  {
   "cell_type": "markdown",
   "id": "5d7de538",
   "metadata": {},
   "source": [
    "# SVM Regression"
   ]
  },
  {
   "cell_type": "code",
   "execution_count": 42,
   "id": "b805eae9",
   "metadata": {},
   "outputs": [
    {
     "name": "stdout",
     "output_type": "stream",
     "text": [
      "65.29041287613715\n"
     ]
    }
   ],
   "source": [
    "model = svm.SVC() #select the algorithm\n",
    "model.fit(x_train ,y_train) # we train the algorithm with the training data and the training output\n",
    "prediction=model.predict(x_test) #now we pass the testing data to the trained algorithm\n",
    "print(accuracy_score(y_test,prediction)*100) #now we check the accuracy of the algorithm. \n",
    "#we pass the predicted output by the model and the actual output"
   ]
  },
  {
   "cell_type": "code",
   "execution_count": 43,
   "id": "d94c3464",
   "metadata": {},
   "outputs": [
    {
     "name": "stdout",
     "output_type": "stream",
     "text": [
      "65.28969018029056\n"
     ]
    }
   ],
   "source": [
    "model.fit(x_test ,y_test) \n",
    "prediction=model.predict(x_train)\n",
    "print(accuracy_score(y_train,prediction)*100)"
   ]
  },
  {
   "cell_type": "markdown",
   "id": "8911c310",
   "metadata": {},
   "source": [
    "# DecisionTreeClassifier¶"
   ]
  },
  {
   "cell_type": "code",
   "execution_count": 44,
   "id": "2d9cc21d",
   "metadata": {},
   "outputs": [
    {
     "name": "stdout",
     "output_type": "stream",
     "text": [
      "100.0\n"
     ]
    }
   ],
   "source": [
    "DT_model = DecisionTreeClassifier()\n",
    "DT_model.fit(x_train ,y_train) # we train the algorithm with the training data and the training output\n",
    "prediction=DT_model.predict(x_train)#now we pass the testing data to the trained algorithm\n",
    "#print(prediction)\n",
    "print((accuracy_score(y_train,prediction))*100)"
   ]
  },
  {
   "cell_type": "code",
   "execution_count": 45,
   "id": "38be5fdb",
   "metadata": {},
   "outputs": [
    {
     "name": "stdout",
     "output_type": "stream",
     "text": [
      "95.66130160951715\n"
     ]
    }
   ],
   "source": [
    "prediction=DT_model.predict(x_test)\n",
    "print((accuracy_score(y_test,prediction))*100)"
   ]
  },
  {
   "cell_type": "code",
   "execution_count": 46,
   "id": "9b6324f1",
   "metadata": {},
   "outputs": [],
   "source": [
    "#here giving a random data from 1.satisfaction_level,2.last_evaluation,3.number_project,4.average_montly_hours,5.\n",
    "#5.time_spend_company,6.Work_accident,7.promotion_last_5years,8.Department,9.salary\n",
    "input_data=(0.73,0.94,4,262,3,0,1,8,1)"
   ]
  },
  {
   "cell_type": "code",
   "execution_count": 47,
   "id": "5c52bf6f",
   "metadata": {},
   "outputs": [
    {
     "name": "stdout",
     "output_type": "stream",
     "text": [
      "[1]\n"
     ]
    }
   ],
   "source": [
    "import numpy as np\n",
    "#change the input data to a numpy array\n",
    "input_data_as_numpy_array=np.asarray(input_data)\n",
    "#reshape the numpy arraky as we are predicting for only on instance\n",
    "input_data_reshaped= input_data_as_numpy_array.reshape(1,-1)\n",
    "prediction=model.predict(input_data_reshaped)\n",
    "print(prediction)"
   ]
  },
  {
   "cell_type": "code",
   "execution_count": 48,
   "id": "563ac446",
   "metadata": {},
   "outputs": [
    {
     "name": "stdout",
     "output_type": "stream",
     "text": [
      "The employee left the company\n"
     ]
    }
   ],
   "source": [
    "if(prediction[0]==0):\n",
    "    print(\"the employee working in the company\")\n",
    "else:\n",
    "    print(\"The employee left the company\")"
   ]
  },
  {
   "cell_type": "code",
   "execution_count": null,
   "id": "d45d90c0",
   "metadata": {},
   "outputs": [],
   "source": []
  }
 ],
 "metadata": {
  "kernelspec": {
   "display_name": "Python 3 (ipykernel)",
   "language": "python",
   "name": "python3"
  },
  "language_info": {
   "codemirror_mode": {
    "name": "ipython",
    "version": 3
   },
   "file_extension": ".py",
   "mimetype": "text/x-python",
   "name": "python",
   "nbconvert_exporter": "python",
   "pygments_lexer": "ipython3",
   "version": "3.9.7"
  }
 },
 "nbformat": 4,
 "nbformat_minor": 5
}
